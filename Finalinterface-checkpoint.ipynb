{
 "cells": [
  {
   "cell_type": "code",
   "execution_count": 1,
   "id": "3928f128",
   "metadata": {},
   "outputs": [],
   "source": [
    "import tkinter as tk\n",
    "from tkinter import ttk\n",
    "from tkinter import messagebox\n",
    "import pandas as pd\n",
    "from sklearn.cluster import KMeans\n",
    "import nltk\n",
    "from nltk.corpus import stopwords\n",
    "from nltk.tokenize import word_tokenize\n",
    "from nltk.stem import PorterStemmer\n",
    "import string\n",
    "from nltk.sentiment import SentimentIntensityAnalyzer\n",
    "from sklearn.metrics import silhouette_score\n",
    "from PIL import Image, ImageTk \n",
    "import os"
   ]
  },
  {
   "cell_type": "code",
   "execution_count": 2,
   "id": "bad24c04",
   "metadata": {},
   "outputs": [
    {
     "name": "stderr",
     "output_type": "stream",
     "text": [
      "[nltk_data] Downloading package punkt to\n",
      "[nltk_data]     C:\\Users\\User\\AppData\\Roaming\\nltk_data...\n",
      "[nltk_data]   Package punkt is already up-to-date!\n",
      "[nltk_data] Downloading package stopwords to\n",
      "[nltk_data]     C:\\Users\\User\\AppData\\Roaming\\nltk_data...\n",
      "[nltk_data]   Package stopwords is already up-to-date!\n",
      "[nltk_data] Downloading package vader_lexicon to\n",
      "[nltk_data]     C:\\Users\\User\\AppData\\Roaming\\nltk_data...\n",
      "[nltk_data]   Package vader_lexicon is already up-to-date!\n"
     ]
    },
    {
     "data": {
      "text/plain": [
       "True"
      ]
     },
     "execution_count": 2,
     "metadata": {},
     "output_type": "execute_result"
    }
   ],
   "source": [
    "nltk.download('punkt')\n",
    "nltk.download('stopwords')\n",
    "nltk.download('vader_lexicon')"
   ]
  },
  {
   "cell_type": "code",
   "execution_count": 3,
   "id": "dcb52607",
   "metadata": {},
   "outputs": [],
   "source": [
    "feature_entries={}\n",
    "features_listbox=None\n",
    "selected_features=[]\n",
    "root=None"
   ]
  },
  {
   "cell_type": "code",
   "execution_count": 16,
   "id": "bc049ae9",
   "metadata": {},
   "outputs": [],
   "source": [
    "def ask_true_false_questions():\n",
    "    global true_false_answer_1_var, true_false_answer_2_var, true_false_answer_3_var, true_false_answer_4_var, true_false_answer_5_var\n",
    "\n",
    "    # Create the assessment window\n",
    "    assessment_window = tk.Tk()\n",
    "    assessment_window.title(\"Product Knowledge Assessment\")\n",
    "\n",
    "    # Load and display background image\n",
    "    bg_image = Image.open(\"C:\\\\Users\\\\User\\\\Downloads\\\\myphn.png\")  # Replace \"background.jpg\" with your image file path\n",
    "    bg_image = bg_image.resize((400, 400), Image.ANTIALIAS)  # Resize the image to fit the window\n",
    "    bg_photo = ImageTk.PhotoImage(bg_image)\n",
    "    bg_label = tk.Label(assessment_window, image=bg_photo)\n",
    "    bg_label.image = bg_photo  # Keep a reference to the image to prevent garbage collection\n",
    "    bg_label.pack(fill=tk.BOTH, expand=True)\n",
    "\n",
    "    # Create a frame to hold the checkbuttons and button\n",
    "    frame = ttk.Frame(assessment_window)\n",
    "    frame.pack(pady=20)\n",
    "\n",
    "    # Create true/false questions using pack\n",
    "    true_false_answer_1_var = tk.BooleanVar()\n",
    "    true_false_answer_2_var = tk.BooleanVar()\n",
    "    true_false_answer_3_var = tk.BooleanVar()\n",
    "    true_false_answer_4_var = tk.BooleanVar()\n",
    "    true_false_answer_5_var = tk.BooleanVar()\n",
    "\n",
    "    true_false_answer_1 = ttk.Checkbutton(frame, text=\"Question 1: Have you ever used our product? (Mandatory)\",variable=true_false_answer_1_var)\n",
    "    true_false_answer_1.pack(pady=5)\n",
    "\n",
    "    true_false_answer_2 = ttk.Checkbutton(frame, text=\"Question 2: Do you suggest our product to others?\",variable=true_false_answer_2_var)\n",
    "    true_false_answer_2.pack(pady=5)\n",
    "\n",
    "    true_false_answer_3 = ttk.Checkbutton(frame, text=\"Question 3: Did anyone suggest our product?\",variable=true_false_answer_3_var)\n",
    "    true_false_answer_3.pack(pady=5)\n",
    "\n",
    "    true_false_answer_4 = ttk.Checkbutton(frame, text=\"Question 4: Have you done any research before?\",variable=true_false_answer_4_var)\n",
    "    true_false_answer_4.pack(pady=5)\n",
    "\n",
    "    true_false_answer_5 = ttk.Checkbutton(frame,text=\"Question 5: Do you know the highlights of our product? (Mandatory)\",variable=true_false_answer_5_var)\n",
    "    true_false_answer_5.pack(pady=5)\n",
    "\n",
    "    assess_button = ttk.Button(assessment_window, text=\"Assess Knowledge\", command=assess_knowledge)\n",
    "    assess_button.pack(pady=10)\n",
    "\n",
    "    assessment_window.mainloop()"
   ]
  },
  {
   "cell_type": "code",
   "execution_count": 5,
   "id": "87a3bdb4",
   "metadata": {},
   "outputs": [],
   "source": [
    "def assess_knowledge():\n",
    "    score=0\n",
    "    if true_false_answer_1_var.get():\n",
    "        score+=5\n",
    "    if true_false_answer_2_var.get():\n",
    "        score+=1\n",
    "    if true_false_answer_3_var.get():\n",
    "        score+=1\n",
    "    if true_false_answer_4_var.get():\n",
    "        score+=2\n",
    "    if true_false_answer_5_var.get():\n",
    "        score+=5\n",
    "        \n",
    "    threshold_score=8\n",
    "    \n",
    "    if score >= threshold_score:\n",
    "        open_interface1()\n",
    "    else:\n",
    "        show_interface_error_message(\"sorry, you need to know more about the product to access the interface, please provide mandatory answers\")"
   ]
  },
  {
   "cell_type": "code",
   "execution_count": 6,
   "id": "bd0fe1b9",
   "metadata": {},
   "outputs": [],
   "source": [
    "def show_interface_error_message(message):\n",
    "    error_window=tk.Toplevel()\n",
    "    error_window.title(\"Error\")\n",
    "    \n",
    "    error_label=ttk.Label(error_window,text=message)\n",
    "    error_label.pack(padx=10,pady=5)\n",
    "    \n",
    "    ok_button=ttk.Button(error_window,text=\"OK\",command=error_window.destroy)\n",
    "    ok_button.pack(pady=5)\n",
    "    \n",
    "    error_window.mainloop()"
   ]
  },
  {
   "cell_type": "code",
   "execution_count": 7,
   "id": "17e74107",
   "metadata": {},
   "outputs": [],
   "source": [
    "df=pd.read_excel(\"C:\\\\Users\\\\User\\\\Desktop\\\\exptdataset1.xlsx\")"
   ]
  },
  {
   "cell_type": "code",
   "execution_count": 18,
   "id": "567303ac",
   "metadata": {},
   "outputs": [],
   "source": [
    "def open_interface1():\n",
    "    global root,features_listbox\n",
    "    \n",
    "    df=pd.read_excel(\"C:\\\\Users\\\\User\\\\Desktop\\\\exptdataset1.xlsx\")\n",
    "    \n",
    "    root = tk.Tk()\n",
    "    root.title(\"Feature Selection\")\n",
    "    root.configure(bg=\"lightgray\")\n",
    "    \n",
    "    screen_width = root.winfo_screenwidth()\n",
    "    screen_height = root.winfo_screenheight()\n",
    "    \n",
    "    window_width = int(screen_width * 0.8)\n",
    "    window_height = int(screen_height * 0.8)\n",
    "    \n",
    "    x_position = (screen_width - window_width) // 2\n",
    "    y_position = (screen_height - window_height) // 2\n",
    "    \n",
    "    root.geometry(f\"{window_width}x{window_height}+{x_position}+{y_position}\")\n",
    "    \n",
    "    canvas = tk.Canvas(root, width=window_width, height=window_height, bg=\"lightgray\")\n",
    "    canvas.pack()\n",
    "    \n",
    "    frame = ttk.Frame(canvas, padding=20)\n",
    "    frame.pack(fill=tk.BOTH, expand=True)\n",
    "    \n",
    "    features_listbox = tk.Listbox(frame, selectmode=tk.MULTIPLE, width=50, height=20)\n",
    "    for feature in df['Feature']:\n",
    "        features_listbox.insert(tk.END, feature)\n",
    "    features_listbox.pack(padx=20, pady=20)\n",
    "\n",
    "    ttk.Button(root, text=\"Proceed\", command=display_selected_features).pack()\n",
    "\n",
    "    root.mainloop()"
   ]
  },
  {
   "cell_type": "code",
   "execution_count": 9,
   "id": "cdc85787",
   "metadata": {},
   "outputs": [],
   "source": [
    "def display_selected_features():\n",
    "    global selected_features_listbox,root\n",
    "    #selected_features = []\n",
    "    selected_features.clear()\n",
    "    selected_indices=features_listbox.curselection()\n",
    "    \n",
    "    if selected_indices:\n",
    "        for index in selected_indices:\n",
    "            selected_features.append(features_listbox.get(index))\n",
    "        root.destroy()\n",
    "        open_interface()\n",
    "    else:\n",
    "        tk.messagebox.showwarning(\"No Selection\", \"Please select at least one feature.\")"
   ]
  },
  {
   "cell_type": "code",
   "execution_count": 10,
   "id": "8d0774c5",
   "metadata": {},
   "outputs": [],
   "source": [
    "def open_interface():\n",
    "    global root,selected_features,feature_entries\n",
    "    #root.destroy()\n",
    "    \n",
    "    root=tk.Tk()\n",
    "    root.title(\"Review and rating collection\")\n",
    "    #root.configure(bg=\"lightgreen\")\n",
    "    \n",
    "    frame=ttk.Frame(root)\n",
    "    frame.pack(fill='both',expand=True)\n",
    "    frame.place(relx=0.5, rely=0.5, anchor=tk.CENTER)\n",
    "\n",
    "    canvas=tk.Canvas(frame)\n",
    "    scrollbar=ttk.Scrollbar(frame,orient='vertical',command=canvas.yview)\n",
    "    scrollable_frame=ttk.Frame(canvas)\n",
    "\n",
    "    scrollable_frame.bind(\n",
    "        \"<Configure>\",\n",
    "        lambda e: canvas.configure(\n",
    "            scrollregion=canvas.bbox(\"all\")\n",
    "        )\n",
    "    )\n",
    "    canvas.create_window((0,0),window=scrollable_frame,anchor=\"nw\")\n",
    "    canvas.configure(yscrollcommand=scrollbar.set)\n",
    "\n",
    "    canvas.pack(side=\"left\",fill=\"both\",expand=True)\n",
    "    scrollbar.pack(side=\"right\",fill=\"y\")\n",
    "    \n",
    "    feature_label=ttk.Label(scrollable_frame,text='Feature')\n",
    "    feature_label.grid(row=0,column=0,padx=5,pady=5)\n",
    "    \n",
    "    feature_label=ttk.Label(scrollable_frame,text='Review')\n",
    "    feature_label.grid(row=0,column=1,padx=5,pady=5)\n",
    "    \n",
    "    feature_label=ttk.Label(scrollable_frame,text='Rating')\n",
    "    feature_label.grid(row=0,column=2,padx=5,pady=5)\n",
    "    \n",
    "    #global feature_entries\n",
    "    for i,feature in enumerate(selected_features,start=1):\n",
    "        ttk.Label(scrollable_frame,text=feature).grid(row=i,column=0,padx=5,pady=5)\n",
    "        feature_entries[feature]={\n",
    "            'review':ttk.Entry(scrollable_frame),\n",
    "            'rating':ttk.Entry(scrollable_frame)\n",
    "        }\n",
    "        feature_entries[feature]['review'].grid(row=i,column=1,padx=5,pady=5)\n",
    "        feature_entries[feature]['rating'].grid(row=i,column=2,padx=5,pady=5)\n",
    "        \n",
    "    submit_button=ttk.Button(root,text=\"Submit Reviews and Ratings\",command=submit_reviews_ratings)\n",
    "    submit_button.pack(side=\"bottom\", pady=10, anchor=\"s\")\n",
    "    \n",
    "    root.mainloop()"
   ]
  },
  {
   "cell_type": "code",
   "execution_count": 11,
   "id": "0ea58262",
   "metadata": {},
   "outputs": [],
   "source": [
    "custom_stopwords = [\"the\", \"and\", \"is\", \"are\", \"in\", \"it\", \"on\", \"of\", \"this\", \"was\", \"a\", \"with\", \"for\", \"at\"]"
   ]
  },
  {
   "cell_type": "code",
   "execution_count": 12,
   "id": "c031992d",
   "metadata": {},
   "outputs": [],
   "source": [
    "sia = SentimentIntensityAnalyzer()"
   ]
  },
  {
   "cell_type": "code",
   "execution_count": 13,
   "id": "4572f108",
   "metadata": {},
   "outputs": [],
   "source": [
    "# Function to preprocess text\n",
    "def preprocess_text(text,custom_stopwords):\n",
    "    text=text.lower()\n",
    "    text=text.translate(str.maketrans('','',string.punctuation))\n",
    "    tokens=word_tokenize(text)\n",
    "    #stop_words=set(stopwords.words('english'))\n",
    "    tokens=[word for word in tokens if word not in custom_stopwords]\n",
    "    preprocessed_text=' '.join(tokens)\n",
    "    return preprocessed_text"
   ]
  },
  {
   "cell_type": "code",
   "execution_count": 20,
   "id": "6001427f",
   "metadata": {},
   "outputs": [],
   "source": [
    "def submit_reviews_ratings():\n",
    "    global data\n",
    "    \n",
    "    # Collect reviews and ratings\n",
    "    data = []\n",
    "    for feature in selected_features:\n",
    "        review = feature_entries[feature]['review'].get()\n",
    "        rating = feature_entries[feature]['rating'].get()\n",
    "        data.append({\"Feature\": feature, \"Review\": review, \"Rating\": rating})\n",
    "\n",
    "    # Create DataFrame from collected data\n",
    "    reviews_ratings_dfnew = pd.DataFrame(data)\n",
    "    reviews_ratings_dfnew.to_excel(\"C:\\\\Users\\\\User\\\\Desktop\\\\reviews_ratings_dfnew.xlsx\",index=False)\n",
    "    df1=pd.read_excel(\"C:\\\\Users\\\\User\\\\Desktop\\\\reviews_ratings_dfnew.xlsx\")\n",
    "    \n",
    "    # Preprocess reviews\n",
    "    df1[\"Review\"].fillna(\"Unknown\",inplace=True)\n",
    "    df1[\"Rating\"].fillna(0,inplace=True)\n",
    "    df1[\"preprocessed_review\"]=df1[\"Review\"].apply(lambda x:preprocess_text(x,custom_stopwords))\n",
    "\n",
    "    # Apply sentiment rating based on preprocessed text\n",
    "    def get_rating(text):\n",
    "        if 'unknown' in text.lower():\n",
    "            return 0\n",
    "        else:\n",
    "            sentiment_score = sia.polarity_scores(text)['compound']\n",
    "            if sentiment_score >= 0.5:\n",
    "                return 5\n",
    "            elif sentiment_score >= 0.1:\n",
    "                return 4\n",
    "            elif sentiment_score >= -0.1:\n",
    "                return 3\n",
    "            elif sentiment_score >= -0.5:\n",
    "                return 2\n",
    "            else:\n",
    "                return 1\n",
    "\n",
    "    df1[\"sentiment_rating\"]=df1[\"preprocessed_review\"].apply(get_rating)\n",
    "\n",
    "    # Create average rating considering sentiment rating and provided rating\n",
    "    df1[\"final_rating\"]=df1.apply(lambda row:row[\"sentiment_rating\"] if row[\"Rating\"]==0 else row[\"Rating\"],axis=1)\n",
    "\n",
    "    # Apply KMeans clustering\n",
    "    X = df1[['final_rating']].values\n",
    "    kmeans = KMeans(n_clusters=3, random_state=42)\n",
    "    kmeans.fit(X)\n",
    "    cluster_labels = kmeans.labels_\n",
    "\n",
    "    # Map cluster labels to recommendations\n",
    "    recommendation_map = {0: \"moderate\", 1: \"weak\", 2: \"strong\"}\n",
    "    df1[\"category\"] = [recommendation_map[label] for label in cluster_labels]\n",
    "\n",
    "\n",
    "    # Determine overall recommendation\n",
    "    strong_count = (df1['category'] == 'strong').sum()\n",
    "    moderate_count = (df1['category'] == 'moderate').sum()\n",
    "    if (strong_count + moderate_count) > len(reviews_ratings_dfnew) / 2:\n",
    "        overall_recommendation = \"strongly recommended\"\n",
    "    else:\n",
    "        overall_recommendation = \"moderate\"\n",
    "        \n",
    "    df1.to_excel(\"C:\\\\Users\\\\User\\\\Desktop\\\\reviews_ratings_dfnew.xlsx\",index=False)\n",
    "\n",
    "    # Display final recommendation\n",
    "    messagebox.showinfo(\"Recommendation\", f\"Based on customer interests the overall review is: {overall_recommendation}\")\n",
    "    root.destroy()"
   ]
  },
  {
   "cell_type": "code",
   "execution_count": 148,
   "id": "2d4f49c9",
   "metadata": {},
   "outputs": [
    {
     "name": "stdout",
     "output_type": "stream",
     "text": [
      "Requirement already satisfied: pillow in e:\\python\\lib\\site-packages (9.4.0)Note: you may need to restart the kernel to use updated packages.\n",
      "\n"
     ]
    }
   ],
   "source": [
    "pip install pillow"
   ]
  },
  {
   "cell_type": "code",
   "execution_count": 21,
   "id": "742fab9c",
   "metadata": {},
   "outputs": [
    {
     "name": "stderr",
     "output_type": "stream",
     "text": [
      "C:\\Users\\User\\AppData\\Local\\Temp\\ipykernel_4748\\2200769335.py:10: DeprecationWarning: ANTIALIAS is deprecated and will be removed in Pillow 10 (2023-07-01). Use LANCZOS or Resampling.LANCZOS instead.\n",
      "  bg_image = bg_image.resize((400, 400), Image.ANTIALIAS)  # Resize the image to fit the window\n",
      "E:\\Python\\Lib\\site-packages\\sklearn\\cluster\\_kmeans.py:1412: FutureWarning: The default value of `n_init` will change from 10 to 'auto' in 1.4. Set the value of `n_init` explicitly to suppress the warning\n",
      "  super()._check_params_vs_input(X, default_n_init=10)\n",
      "E:\\Python\\Lib\\site-packages\\sklearn\\cluster\\_kmeans.py:1436: UserWarning: KMeans is known to have a memory leak on Windows with MKL, when there are less chunks than available threads. You can avoid it by setting the environment variable OMP_NUM_THREADS=1.\n",
      "  warnings.warn(\n"
     ]
    }
   ],
   "source": [
    "ask_true_false_questions()"
   ]
  }
 ],
 "metadata": {
  "kernelspec": {
   "display_name": "Python 3 (ipykernel)",
   "language": "python",
   "name": "python3"
  },
  "language_info": {
   "codemirror_mode": {
    "name": "ipython",
    "version": 3
   },
   "file_extension": ".py",
   "mimetype": "text/x-python",
   "name": "python",
   "nbconvert_exporter": "python",
   "pygments_lexer": "ipython3",
   "version": "3.11.4"
  }
 },
 "nbformat": 4,
 "nbformat_minor": 5
}
